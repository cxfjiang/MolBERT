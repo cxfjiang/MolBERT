{
 "cells": [
  {
   "cell_type": "code",
   "execution_count": 1,
   "metadata": {},
   "outputs": [
    {
     "name": "stderr",
     "output_type": "stream",
     "text": [
      "RDKit WARNING: [16:13:18] Enabling RDKit 2019.09.3 jupyter extensions\n"
     ]
    }
   ],
   "source": [
    "import numpy as np\n",
    "import pandas as pd\n",
    "from rdkit.Chem import MolStandardize"
   ]
  },
  {
   "cell_type": "code",
   "execution_count": 2,
   "metadata": {},
   "outputs": [],
   "source": [
    "def mol2alt_sentence(mol, radius):\n",
    "    \"\"\"Same as mol2sentence() expect it only returns the alternating sentence\n",
    "    Calculates ECFP (Morgan fingerprint) and returns identifiers of substructures as 'sentence' (string).\n",
    "    Returns a tuple with 1) a list with sentence for each radius and 2) a sentence with identifiers from all radii\n",
    "    combined.\n",
    "    NOTE: Words are ALWAYS reordered according to atom order in the input mol object.\n",
    "    NOTE: Due to the way how Morgan FPs are generated, number of identifiers at each radius is smaller\n",
    "\n",
    "    Parameters\n",
    "    ----------\n",
    "    mol : rdkit.Chem.rdchem.Mol\n",
    "    radius : float\n",
    "        Fingerprint radius\n",
    "\n",
    "    Returns\n",
    "    -------\n",
    "    list\n",
    "        alternating sentence\n",
    "    combined\n",
    "    \"\"\"\n",
    "    radii = list(range(int(radius) + 1))\n",
    "    info = {}\n",
    "    _ = AllChem.GetMorganFingerprint(mol, radius, bitInfo=info)  # info: dictionary identifier, atom_idx, radius\n",
    "\n",
    "    mol_atoms = [a.GetIdx() for a in mol.GetAtoms()]\n",
    "\n",
    "    #     print(mol_atoms)\n",
    "    dict_atoms = {x: {r: None for r in radii} for x in mol_atoms}\n",
    "\n",
    "    for element in info:\n",
    "        for atom_idx, radius_at in info[element]:\n",
    "            dict_atoms[atom_idx][radius_at] = element  # {atom number: {fp radius: identifier}}\n",
    "\n",
    "    # merge identifiers alternating radius to sentence: atom 0 radius0, atom 0 radius 1, etc.\n",
    "    identifiers_alt = []\n",
    "    for atom in dict_atoms:  # iterate over atoms\n",
    "        for r in radii:  # iterate over radii\n",
    "            identifiers_alt.append(dict_atoms[atom][r])\n",
    "\n",
    "    alternating_sentence = map(str, [x for x in identifiers_alt if x])\n",
    "\n",
    "    return list(alternating_sentence)"
   ]
  },
  {
   "cell_type": "code",
   "execution_count": 3,
   "metadata": {},
   "outputs": [],
   "source": [
    "allowedAtomsDict = {\n",
    "    'H' : 1,'h' : 0,\n",
    "    'B' : 5,'b' : 0,\n",
    "    'C' : 6,'c' : 0,\n",
    "    'N' : 7,'n' : 0,\n",
    "    'O' : 8,'o' : 0,\n",
    "    'F' : 9,'f' : 0,\n",
    "    'P' : 15,'p': 0,\n",
    "    'S' : 16,'s': 0,\n",
    "    'Cl': 17,'Br' : 35\n",
    "}\n"
   ]
  },
  {
   "cell_type": "code",
   "execution_count": 4,
   "metadata": {},
   "outputs": [],
   "source": [
    "word = \"AaBbCcDdEeFfGgHhIiJjKkLlMmNnOoPpQqRrSsTtUuVvWwXxYyZzBrCl\"\n",
    "def isValidCharacter(c):\n",
    "    if c not in word or (c in word and c in \"HhBbCcNnOoFfPpSsClBr\"):\n",
    "        return True\n",
    "    return False\n",
    "\n",
    "def isValidSmiles(smiles,atom_weight = 600,heavy_atom_count = 50):\n",
    "    '''\n",
    "        1. smiles能够被rdkit包处理\n",
    "        2. smiles只包含特定元素\n",
    "        3. smiles原子权重\n",
    "    '''\n",
    "    t_weight = 0\n",
    "    heavyAtomCount = 0\n",
    "    left = -len(smiles)-1\n",
    "    right = -1\n",
    "    idx = -1\n",
    "    while True:\n",
    "        if idx <= left:\n",
    "            break\n",
    "        c = smiles[idx]\n",
    "        if smiles[idx] == 'r' or smiles[idx] == 'l' :\n",
    "            c = (smiles[idx-1] if idx -1 > right else \"#\") + c\n",
    "            idx = idx - 1\n",
    "        idx = idx - 1\n",
    "        if isValidCharacter(c) == True:\n",
    "            if c in allowedAtomsDict.keys():\n",
    "                t_weight = t_weight + int(allowedAtomsDict[c])\n",
    "                heavyAtomCount = heavyAtomCount + (1 if int(allowedAtomsDict[c]) > 1 else 0)\n",
    "        else:\n",
    "            return False\n",
    "#     print(type(t_weight),ttype(heavy_atom_count))\n",
    "    return  True if t_weight >= 3 and t_weight <= atom_weight and heavyAtomCount <= heavy_atom_count else False"
   ]
  },
  {
   "cell_type": "code",
   "execution_count": 5,
   "metadata": {},
   "outputs": [],
   "source": [
    "def standardizeAndcanonical(smi):\n",
    "    lfc = MolStandardize.fragment.LargestFragmentChooser()\n",
    "    # standardize\n",
    "    mol = Chem.MolFromSmiles(smi)\n",
    "    mol2 = lfc.choose(mol)\n",
    "    smi2 = Chem.MolToSmiles(mol2)\n",
    "    #     print(smi2)\n",
    "    #     # canonical\n",
    "    #     can_smi = Chem.MolToSmiles(Chem.MolFromSmiles(smi2))\n",
    "    # #     print(can_smi)\n",
    "    #     print(can_smi == smi2)\n",
    "    return smi2"
   ]
  },
  {
   "cell_type": "code",
   "execution_count": 6,
   "metadata": {},
   "outputs": [],
   "source": [
    "import csv\n",
    "import pandas as pd\n",
    "import random\n",
    "import numpy as np\n",
    "import pandas as pd\n",
    "from rdkit import Chem\n",
    "from rdkit.Chem import AllChem\n",
    "from rdkit.Chem import Draw\n",
    "from rdkit.Chem import PandasTools\n",
    "from rdkit.Chem.Draw import IPythonConsole\n",
    "import matplotlib.pyplot as plt\n",
    "import seaborn as sns\n",
    "from mol2vec.features import mol2alt_sentence, MolSentence, DfVec, sentences2vec\n",
    "from mol2vec.helpers import depict_identifier, plot_2D_vectors, IdentifierTable, mol_to_svg\n",
    "import pandas as pd\n"
   ]
  },
  {
   "cell_type": "code",
   "execution_count": 7,
   "metadata": {},
   "outputs": [],
   "source": [
    "# 预先加载数据集\n",
    "df = pd.read_csv('raw/Lipophilicity.csv',sep=',')\n",
    "# print(df)\n",
    "smiles_list = []\n",
    "# line = line.rstrip().split(',')\n",
    "# smiles = str(line[8])\n",
    "# val = float(line[7]\n",
    "for _,smlAndlabel in df.iterrows():\n",
    "    smiles, label = smlAndlabel[2], smlAndlabel[1]\n",
    "    smiles_list.append([smiles,label])\n",
    "# print(smiles_list)"
   ]
  },
  {
   "cell_type": "code",
   "execution_count": 8,
   "metadata": {},
   "outputs": [],
   "source": [
    "def generate_scaffold_file( smiles_list, num=0,):\n",
    "    new_smiles_list = []\n",
    "    for i in range(len(smiles_list)):\n",
    "        smiles = smiles_list[i][0]\n",
    "        label = smiles_list[i][1]\n",
    "        smi = standardizeAndcanonical(smiles)\n",
    "        if isValidSmiles(smi) == True:\n",
    "            t = Chem.MolFromSmiles(smi)\n",
    "            if t != None:\n",
    "                sentence = mol2alt_sentence(t,1)\n",
    "#                     print(sentence[0] == 'none')\n",
    "                if len(sentence) % 2 == 0:\n",
    "                        new_smiles_list.append([smiles, label])\n",
    "    idx = [i for i in range(len(new_smiles_list))]\n",
    "    random.shuffle(idx)\n",
    "    idx_train, idx_validation, idx_test = idx[0:int(len(idx)*0.8)],idx[int(len(idx)*0.8):int(len(idx)*0.9)]\\\n",
    "    ,idx[int(len(idx)*0.9):]\n",
    "    print(len(idx_train), len(idx_validation), len(idx_test), len(idx_train)+len(idx_validation)+len(idx_test))\n",
    "    with open(\"train_\" + str(num) + \".txt\",\"w\") as f:\n",
    "        for id in idx_train:\n",
    "            smiles = smiles_list[id][0]\n",
    "            label = smiles_list[id][1]\n",
    "            f.write(smiles+\",\"+str(label)+\"\\n\")\n",
    "            \n",
    "    with open(\"validation_\" + str(num) + \".txt\",\"w\") as f:\n",
    "        for id in idx_validation:\n",
    "            smiles = smiles_list[id][0]\n",
    "            label = smiles_list[id][1]\n",
    "            f.write(smiles+\",\"+str(label)+\"\\n\")\n",
    "            \n",
    "    with open(\"test_\" + str(num) + \".txt\",\"w\") as f:\n",
    "        for id in idx_test:\n",
    "            smiles = smiles_list[id][0]\n",
    "            label = smiles_list[id][1]\n",
    "            f.write(smiles+\",\"+str(label)+\"\\n\")\n",
    "    "
   ]
  },
  {
   "cell_type": "code",
   "execution_count": 9,
   "metadata": {},
   "outputs": [
    {
     "name": "stdout",
     "output_type": "stream",
     "text": [
      "3332 417 417 4166\n",
      "3332 417 417 4166\n",
      "3332 417 417 4166\n",
      "3332 417 417 4166\n",
      "3332 417 417 4166\n",
      "3332 417 417 4166\n"
     ]
    }
   ],
   "source": [
    "generate_scaffold_file(smiles_list,0)\n",
    "generate_scaffold_file(smiles_list,1)\n",
    "generate_scaffold_file(smiles_list,2)\n",
    "generate_scaffold_file(smiles_list,3)\n",
    "generate_scaffold_file(smiles_list,4)\n",
    "generate_scaffold_file(smiles_list,5)\n",
    "# generate_scaffold_file(\"split-random-1.npy\",1,smiles_list)\n",
    "# generate_scaffold_file(\"split-random-2.npy\",2,smiles_list)\n",
    "# generate_scaffold_file(\"split-random-3.npy\",3,smiles_list)\n",
    "# generate_scaffold_file(\"split-random-4.npy\",4,smiles_list)\n",
    "# generate_scaffold_file(\"split-random-5.npy\",5,smiles_list)"
   ]
  },
  {
   "cell_type": "code",
   "execution_count": null,
   "metadata": {},
   "outputs": [],
   "source": []
  }
 ],
 "metadata": {
  "kernelspec": {
   "display_name": "smiles-bert",
   "language": "python",
   "name": "smiles-bert"
  },
  "language_info": {
   "codemirror_mode": {
    "name": "ipython",
    "version": 3
   },
   "file_extension": ".py",
   "mimetype": "text/x-python",
   "name": "python",
   "nbconvert_exporter": "python",
   "pygments_lexer": "ipython3",
   "version": "3.7.6"
  }
 },
 "nbformat": 4,
 "nbformat_minor": 2
}
