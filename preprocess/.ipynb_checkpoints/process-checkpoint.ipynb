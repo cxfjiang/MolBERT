{
 "cells": [
  {
   "cell_type": "code",
   "execution_count": 17,
   "metadata": {},
   "outputs": [],
   "source": [
    "% matplotlib inline"
   ]
  },
  {
   "cell_type": "code",
   "execution_count": 18,
   "metadata": {},
   "outputs": [],
   "source": [
    "import numpy as np\n",
    "import pandas as pd\n",
    "from rdkit import Chem\n",
    "from rdkit.Chem import AllChem\n",
    "from rdkit.Chem import Draw\n",
    "from rdkit.Chem import PandasTools\n",
    "from rdkit.Chem.Draw import IPythonConsole\n",
    "import matplotlib.pyplot as plt\n",
    "import seaborn as sns\n",
    "from mol2vec.features import mol2alt_sentence, MolSentence, DfVec, sentences2vec\n",
    "from mol2vec.helpers import depict_identifier, plot_2D_vectors, IdentifierTable, mol_to_svg\n",
    "import pandas as pd\n",
    "from help import Help"
   ]
  },
  {
   "cell_type": "code",
   "execution_count": 19,
   "metadata": {},
   "outputs": [],
   "source": [
    "def mol2alt_sentence_new(mol, radius):\n",
    "    \"\"\"Same as mol2sentence() expect it only returns the alternating sentence\n",
    "    Calculates ECFP (Morgan fingerprint) and returns identifiers of substructures as 'sentence' (string).\n",
    "    Returns a tuple with 1) a list with sentence for each radius and 2) a sentence with identifiers from all radii\n",
    "    combined.\n",
    "    NOTE: Words are ALWAYS reordered according to atom order in the input mol object.\n",
    "    NOTE: Due to the way how Morgan FPs are generated, number of identifiers at each radius is smaller\n",
    "    \n",
    "    Parameters\n",
    "    ----------\n",
    "    mol : rdkit.Chem.rdchem.Mol\n",
    "    radius : float \n",
    "        Fingerprint radius\n",
    "    \n",
    "    Returns\n",
    "    -------\n",
    "    list\n",
    "        alternating sentence\n",
    "    combined\n",
    "    \"\"\"\n",
    "    radii = list(range(int(radius) + 1))\n",
    "    info = {}\n",
    "    _ = AllChem.GetMorganFingerprint(mol, radius, bitInfo=info)  # info: dictionary identifier, atom_idx, radius\n",
    "\n",
    "    # 初始化部分\n",
    "    mol_atoms = [a.GetIdx() for a in mol.GetAtoms()]\n",
    "#     print(mol_atoms)\n",
    "    dict_atoms = {x: {r: None for r in radii} for x in mol_atoms}\n",
    "#     print(dict_atoms)\n",
    "    \n",
    "    for element in info:\n",
    "        for atom_idx, radius_at in info[element]:\n",
    "            dict_atoms[atom_idx][radius_at] = element  # {atom number: {fp radius: identifier}}\n",
    "#     print(dict_atoms)\n",
    "    # merge identifiers alternating radius to sentence: atom 0 radius0, atom 0 radius 1, etc.\n",
    "    identifiers_alt = []\n",
    "    for atom in dict_atoms:  # iterate over atoms\n",
    "        for r in [radius]:  # iterate over radii\n",
    "            identifiers_alt.append(dict_atoms[atom][r])\n",
    "            \n",
    "    alternating_sentence = map(str, [x for x in identifiers_alt]) # not ignore the null indentification\n",
    "    return list(alternating_sentence)"
   ]
  },
  {
   "cell_type": "markdown",
   "metadata": {},
   "source": [
    "Load SMILES "
   ]
  },
  {
   "cell_type": "markdown",
   "metadata": {},
   "source": [
    "preprocess smiles,only H, B, C, N, O, F, P, S, Cl,h, b, c, o, f, p, s and Br atoms allowed."
   ]
  },
  {
   "cell_type": "code",
   "execution_count": 20,
   "metadata": {},
   "outputs": [],
   "source": [
    "allowedAtomsDict = {\n",
    "    'H' : 1,'h' : 0,\n",
    "    'B' : 5,'b' : 0,\n",
    "    'C' : 6,'c' : 0,\n",
    "    'N' : 7,'n' : 0,\n",
    "    'O' : 8,'o' : 0,\n",
    "    'F' : 9,'f' : 0,\n",
    "    'P' : 15,'p': 0,\n",
    "    'S' : 16,'s': 0,\n",
    "    'Cl': 17,'Br' : 35\n",
    "}\n"
   ]
  },
  {
   "cell_type": "code",
   "execution_count": 21,
   "metadata": {},
   "outputs": [],
   "source": [
    "word = \"AaBbCcDdEeFfGgHhIiJjKkLlMmNnOoPpQqRrSsTtUuVvWwXxYyZzBrCl\"\n",
    "def isValidCharacter(c):\n",
    "    if c not in word or (c in word and c in \"HhBbCcNnOoFfPpSsClBr\"):\n",
    "        return True\n",
    "    return False\n",
    "\n",
    "def isValidSmiles(smiles,atom_weight = 600,heavy_atom_count = 50):\n",
    "    '''\n",
    "        1. smiles能够被rdkit包处理\n",
    "        2. smiles只包含特定元素\n",
    "        3. smiles原子权重\n",
    "    '''\n",
    "    t_weight = 0\n",
    "    heavyAtomCount = 0\n",
    "    left = -len(smiles)-1\n",
    "    right = -1\n",
    "    idx = -1\n",
    "    while True:\n",
    "        if idx <= left:\n",
    "            break\n",
    "        c = smiles[idx]\n",
    "        if smiles[idx] == 'r' or smiles[idx] == 'l' :\n",
    "            c = (smiles[idx-1] if idx -1 > right else \"#\") + c\n",
    "            idx = idx - 1\n",
    "        idx = idx - 1\n",
    "        if isValidCharacter(c) == True:\n",
    "            if c in allowedAtomsDict.keys():\n",
    "                t_weight = t_weight + int(allowedAtomsDict[c])\n",
    "                heavyAtomCount = heavyAtomCount + (1 if int(allowedAtomsDict[c]) > 1 else 0)\n",
    "        else:\n",
    "            return False\n",
    "#     print(type(t_weight),ttype(heavy_atom_count))\n",
    "    return  True if t_weight >= 3 and t_weight <= atom_weight and heavyAtomCount <= heavy_atom_count else False"
   ]
  },
  {
   "cell_type": "markdown",
   "metadata": {},
   "source": [
    "# preprocess chembl dataste(about 2 million smiles records)"
   ]
  },
  {
   "cell_type": "code",
   "execution_count": 22,
   "metadata": {},
   "outputs": [
    {
     "name": "stderr",
     "output_type": "stream",
     "text": [
      "RDKit WARNING: [16:17:56] WARNING: not removing hydrogen atom without neighbors\n",
      "RDKit WARNING: [16:19:49] WARNING: not removing hydrogen atom without neighbors\n",
      "RDKit WARNING: [16:19:58] WARNING: not removing hydrogen atom without neighbors\n",
      "RDKit WARNING: [16:22:39] WARNING: not removing hydrogen atom without neighbors\n",
      "RDKit WARNING: [16:22:39] WARNING: not removing hydrogen atom without neighbors\n",
      "RDKit WARNING: [16:22:39] WARNING: not removing hydrogen atom without neighbors\n"
     ]
    },
    {
     "name": "stdout",
     "output_type": "stream",
     "text": [
      "17146 1846323 1941411\n"
     ]
    }
   ],
   "source": [
    "path = \"../dataset/chembl_27/chembl_27_chemreps_smiles.txt\"\n",
    "out_put = \"../dataset/chembl_27/process_smiles.txt\"\n",
    "all_char = []\n",
    "\n",
    "# with open(out_put,\"a+\") as out:\n",
    "unGenerateMol = 0\n",
    "validSmiles = 0\n",
    "total = 0\n",
    "\n",
    "with open(out_put,\"w\") as out:\n",
    "    with open(path,\"r\") as f:\n",
    "        f.readline() # 跳过第一行\n",
    "        for smiles in f.readlines():\n",
    "            smiles = smiles[:-1]\n",
    "            smiles = smiles.split(\",\")[-1]\n",
    "            if isValidSmiles(smiles) == True:\n",
    "                t = Chem.MolFromSmiles(smiles)\n",
    "                if t == None:\n",
    "                    unGenerateMol += 1\n",
    "                else: \n",
    "                    sentence = mol2alt_sentence_new(t,1)\n",
    "                    if sentence[0] == 'None':\n",
    "                        unGenerateMol += 1\n",
    "                    else:\n",
    "                        validSmiles += 1\n",
    "                        out.write(smiles+\"\\n\")\n",
    "            total += 1\n",
    "print(unGenerateMol,validSmiles,total)"
   ]
  },
  {
   "cell_type": "markdown",
   "metadata": {},
   "source": [
    "# preprocess zinc_standard_agent dataste(2 million smiles records)"
   ]
  },
  {
   "cell_type": "code",
   "execution_count": 6,
   "metadata": {},
   "outputs": [
    {
     "name": "stdout",
     "output_type": "stream",
     "text": [
      "CCOC(=O)c1cccc(Nc2c(-c3ccc(N(C)C)cc3)nc3cnccn32)c1\n",
      "O=C(O)CCN1C(=O)C(O)=C(C(=O)c2ccc(Cl)cc2)[C@@H]1c1ccc(Cl)cc1\n",
      "\n"
     ]
    }
   ],
   "source": [
    "zinc_path = \"../dataset/zinc_standard_agent/processed/smiles.csv\"\n",
    "\n",
    "with open(zinc_path,\"r\") as f:\n",
    "    p1 = f.readline()[:-1]\n",
    "    p2 = f.readline()\n",
    "    print(p1)\n",
    "    print(p2)"
   ]
  },
  {
   "cell_type": "code",
   "execution_count": 15,
   "metadata": {},
   "outputs": [
    {
     "name": "stdout",
     "output_type": "stream",
     "text": [
      "0 1978161 2000000\n"
     ]
    }
   ],
   "source": [
    "zinc_path = \"../dataset/zinc_standard_agent/processed/smiles.csv\"\n",
    "out_put = \"../dataset/zinc_standard_agent/processed/processed_smiles.txt\"\n",
    "all_char = []\n",
    "\n",
    "# with open(out_put,\"a+\") as out:\n",
    "unGenerateMol = 0\n",
    "validSmiles = 0\n",
    "total = 0\n",
    "\n",
    "with open(out_put,\"w\") as out:\n",
    "    with open(zinc_path,\"r\") as f:\n",
    "        # f.readline() # 跳过第一行\n",
    "        for smiles in f.readlines():\n",
    "            #smiles = smiles[:-1]c\n",
    "            #smiles = smiles.split(\",\")[-1]\n",
    "#             print(smiles)\n",
    "            if isValidSmiles(smiles) == True:\n",
    "                t = Chem.MolFromSmiles(smiles)\n",
    "                if t == None:\n",
    "                    unGenerateMol += 1\n",
    "                else: \n",
    "                    sentence = mol2alt_sentence_new(t,1)\n",
    "                    if sentence[0] == 'None':\n",
    "                        unGenerateMol += 1\n",
    "                    else:\n",
    "                        validSmiles += 1\n",
    "                        out.write(smiles)\n",
    "            total += 1\n",
    "print(unGenerateMol,validSmiles,total)"
   ]
  },
  {
   "cell_type": "markdown",
   "metadata": {},
   "source": [
    "# generate Indetity dict"
   ]
  },
  {
   "cell_type": "code",
   "execution_count": 20,
   "metadata": {},
   "outputs": [],
   "source": [
    "smiles = \"Cc1cc(-c2csc(N=C(N)N)n2)cn1C\"\n",
    "t = Chem.MolFromSmiles(smiles)\n",
    "sentence = mol2alt_sentence_new(t,1)\n"
   ]
  },
  {
   "cell_type": "markdown",
   "metadata": {},
   "source": [
    "## generate Indentification dict"
   ]
  },
  {
   "cell_type": "code",
   "execution_count": 23,
   "metadata": {},
   "outputs": [],
   "source": [
    "path_chembl = \"../dataset/chembl_27/process_smiles.txt\"\n",
    "path_zinc = \"../dataset/zinc_standard_agent/processed/processed_smiles.txt\"\n",
    "identification = {}\n",
    "tt  = 0\n",
    "tt2 = 0\n",
    "total = 0"
   ]
  },
  {
   "cell_type": "code",
   "execution_count": 24,
   "metadata": {},
   "outputs": [
    {
     "name": "stderr",
     "output_type": "stream",
     "text": [
      "RDKit WARNING: [16:57:14] WARNING: not removing hydrogen atom without neighbors\n",
      "RDKit WARNING: [16:58:58] WARNING: not removing hydrogen atom without neighbors\n",
      "RDKit WARNING: [16:59:06] WARNING: not removing hydrogen atom without neighbors\n",
      "RDKit WARNING: [17:01:39] WARNING: not removing hydrogen atom without neighbors\n",
      "RDKit WARNING: [17:01:39] WARNING: not removing hydrogen atom without neighbors\n",
      "RDKit WARNING: [17:01:39] WARNING: not removing hydrogen atom without neighbors\n"
     ]
    },
    {
     "name": "stdout",
     "output_type": "stream",
     "text": [
      "16028 0 1846323\n"
     ]
    }
   ],
   "source": [
    "with open(path_chembl,\"r\") as f:\n",
    "    for smiles in f.readlines():\n",
    "        t = Chem.MolFromSmiles(smiles)\n",
    "        sentence = mol2alt_sentence_new(t,1) # 获取半径为1的原子id\n",
    "        # 统计第一个原子标识为空\n",
    "        total += 1\n",
    "        if sentence[0] == 'None':\n",
    "            tt2 += 1\n",
    "        else:\n",
    "            for idx in range(len(sentence)):\n",
    "                sen = sentence[idx]\n",
    "                if sen == 'None':\n",
    "                    sen = sentence[idx-1]\n",
    "                    sentence[idx] = sen\n",
    "                if sen not in identification.keys():\n",
    "                    identification[sen] = tt\n",
    "                    tt += 1\n",
    "    print(tt,tt2,total) # tt id的数目，tt2未能生成id，total总共数目"
   ]
  },
  {
   "cell_type": "code",
   "execution_count": 25,
   "metadata": {},
   "outputs": [
    {
     "name": "stdout",
     "output_type": "stream",
     "text": [
      "18976 0 3824484\n"
     ]
    }
   ],
   "source": [
    "with open(path_zinc,\"r\") as f:\n",
    "    for smiles in f.readlines():\n",
    "        t = Chem.MolFromSmiles(smiles)\n",
    "        sentence = mol2alt_sentence_new(t,1) # 获取半径为1的原子id\n",
    "        # 统计第一个原子标识为空\n",
    "        total += 1\n",
    "        if sentence[0] == 'None':\n",
    "            tt2 += 1\n",
    "        else:\n",
    "            for idx in range(len(sentence)):\n",
    "                sen = sentence[idx]\n",
    "                if sen == 'None':\n",
    "                    sen = sentence[idx-1]\n",
    "                    sentence[idx] = sen\n",
    "                    \n",
    "                if sen not in identification.keys():\n",
    "                    identification[sen] = tt\n",
    "                    tt += 1\n",
    "    print(tt,tt2,total) # tt id的数目，tt2未能生成id，total总共数目"
   ]
  },
  {
   "cell_type": "markdown",
   "metadata": {},
   "source": [
    "## 持久化"
   ]
  },
  {
   "cell_type": "code",
   "execution_count": 26,
   "metadata": {},
   "outputs": [],
   "source": [
    "import pickle\n",
    "identification_file = open('ident.pickle', 'wb')\n",
    "pickle.dump(identification, identification_file)\n",
    "identification_file.close()"
   ]
  },
  {
   "cell_type": "code",
   "execution_count": null,
   "metadata": {},
   "outputs": [],
   "source": []
  }
 ],
 "metadata": {
  "kernelspec": {
   "display_name": "smiles-bert",
   "language": "python",
   "name": "smiles-bert"
  },
  "language_info": {
   "codemirror_mode": {
    "name": "ipython",
    "version": 3
   },
   "file_extension": ".py",
   "mimetype": "text/x-python",
   "name": "python",
   "nbconvert_exporter": "python",
   "pygments_lexer": "ipython3",
   "version": "3.7.6"
  }
 },
 "nbformat": 4,
 "nbformat_minor": 2
}
